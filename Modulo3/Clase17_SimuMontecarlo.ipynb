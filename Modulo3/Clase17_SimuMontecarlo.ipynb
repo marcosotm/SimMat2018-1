{
 "cells": [
  {
   "cell_type": "markdown",
   "metadata": {},
   "source": [
    "# Simulación Montecarlo\n",
    "> El método de Montecarlo es un método no determinista o estadístico numérico, usado para aproximar expresiones matemáticas complejas y costosas de evaluar con exactitud. El método se llamó así en referencia al Casino de Montecarlo (Mónaco) por ser “la capital del juego de azar”, al ser la ruleta un generador simple de números aleatorios. El nombre y el desarrollo sistemático de los métodos de Montecarlo datan aproximadamente de 1944 y se mejoraron enormemente con el desarrollo de la computadora.\n",
    "\n",
    "Referencia:\n",
    "- https://es.wikipedia.org/wiki/M%C3%A9todo_de_Montecarlo"
   ]
  },
  {
   "cell_type": "markdown",
   "metadata": {},
   "source": [
    "___\n",
    "## 1. Introducción\n",
    "\n",
    "<img style=\"float: right; margin: 0px 0px 15px 15px;\" src=\"https://upload.wikimedia.org/wikipedia/commons/5/54/Monte_carlo_method.svg\" width=\"300px\" height=\"100px\" />\n",
    "\n",
    "- Inventado por Stanislaw Ulam y a John von Neumann. Ulam ha explicado cómo se le ocurrió la idea mientras jugaba un solitario durante una enfermedad en 1946. \n",
    "- Advirtió que resulta mucho más simple tener una idea del resultado general del solitario haciendo pruebas múltiples con las cartas y contando las proporciones de los resultados que computar todas las posibilidades de combinación formalmente.\n",
    "- Se le ocurrió que esta misma observación debía aplicarse a su trabajo de Los Álamos sobre difusión de neutrones, para la cual resulta prácticamente imposible solucionar las ecuaciones íntegro-diferenciales que gobiernan la dispersión, la absorción y la fisión.\n",
    "- Dado que ya  empezaban a estar disponibles máquinas de computación para efectuar las pruebas numéricas, el método cobró  mucha fuerza.\n",
    "- El método de Montecarlo proporciona soluciones aproximadas a una gran variedad de problemas matemáticos posibilitando la realización de experimentos con muestreos de números pseudoaleatorios en una computadora. El método es aplicable a cualquier tipo de problema, ya sea estocástico o determinista. \n",
    "- El método de Montecarlo tiene un error absoluto de la estimación que decrece como $\\frac{1}{\\sqrt{N}}$ en virtud del teorema del límite central.\n",
    "\n",
    "### Ejemplo\n",
    "Todos alguna vez hemos aplicado el método Montecarlo (inconscientemente). Como ejemplo, consideremos el juego de Astucia Naval.\n",
    "\n",
    "Normalmente, primero se realizan una serie de tiros a puntos aleatorios. Una vez se impacta en un barco, se puede utilizar un algoritmo determinista para identificar la posición del barco y así terminar de derrumbarlo.\n",
    "\n"
   ]
  },
  {
   "cell_type": "markdown",
   "metadata": {},
   "source": [
    "___\n",
    "## 2. Caminata aleatoria\n",
    "<img style=\"float: right; margin: 0px 0px 15px 15px;\" src=\"https://upload.wikimedia.org/wikipedia/commons/d/da/Random_Walk_example.svg\" width=\"300px\" height=\"100px\" />\n",
    "\n",
    "Una caminata aleatoria (*random walk* en inglés) es ua formalización matemática de la trayectoria que resulta al hacer pasos sucesivos aleatorios. Un ejemplo elemental de caminata aleatoria es la caminata aleatoria en la línea de números enteros $\\mathbb{Z}$, la cual comienza en $0$ y en cada paso se mueve $+1$ o $-1$ con igual probabilidad.\n",
    "\n",
    "Otros ejemplos:\n",
    "- Trayectoria de una molécula al viajar en un fluido (líquido o gas).\n",
    "- El camino que sigue un animal en su búsqueda de comida.\n",
    "- El precio fluctuante de una acción.\n",
    "- La situación de un apostador en un juego de azar.\n",
    "\n",
    "Todos pueden ser aproximados por caminatas aleatorias, aunque no sean en verdad procesos aleatorios."
   ]
  },
  {
   "cell_type": "markdown",
   "metadata": {},
   "source": [
    "**Este también es un ejemplo de caminata aleatoria**"
   ]
  },
  {
   "cell_type": "code",
   "execution_count": 2,
   "metadata": {},
   "outputs": [
    {
     "data": {
      "image/jpeg": "[encoded data removed]",
      "text/html": [
       "\n",
       "        <iframe\n",
       "            width=\"400\"\n",
       "            height=\"300\"\n",
       "            src=\"https://www.youtube.com/embed/Y77WnkLbT2Q\"\n",
       "            frameborder=\"0\"\n",
       "            allowfullscreen\n",
       "        ></iframe>\n",
       "        "
      ],
      "text/plain": [
       "<IPython.lib.display.YouTubeVideo at 0x7f4f543efb70>"
      ]
     },
     "execution_count": 2,
     "metadata": {},
     "output_type": "execute_result"
    }
   ],
   "source": [
    "from IPython.display import YouTubeVideo\n",
    "YouTubeVideo('Y77WnkLbT2Q')"
   ]
  },
  {
   "cell_type": "markdown",
   "metadata": {},
   "source": [
    "### Caminata aleatoria en una dimensión\n",
    "Como dijimos, un ejemplo elemental de caminata aleatoria es la caminata aleatoria en la línea de números enteros $\\mathbb{Z}$, la cual comienza en $0$ y a cada paso se mueve , which starts at 0 and at each step moves $+1$ o $-1$ con igual probabilidad.\n",
    "\n",
    "Esta caminata se puede ilustrar como sigue:\n",
    "- Se posiciona en $0$ en la línea de números enteros y una moneda justa se tira.\n",
    "- Si cae en **sol** nos moveremos una unidad a la derecha.\n",
    "- Si cae en **águila** nos moveremos una unidad a la izquierda.\n",
    "\n",
    "Notemos que después de $5$ pasos podremos estar en 1, −1, 3, −3, 5, or −5. Las posibilidades son las siguientes:\n",
    "\n",
    "<img style=\"float: center; margin: 0px 0px 15px 15px;\" src=\"https://upload.wikimedia.org/wikipedia/commons/0/05/Flips.svg\" width=\"900px\" height=\"300px\" />\n",
    "\n",
    "\n",
    "Referencia:\n",
    "- https://en.wikipedia.org/wiki/Random_walk\n",
    "\n",
    "**Importante:** librería random.\n",
    "\n",
    "Referencia:\n",
    "- https://docs.python.org/3/library/random.html"
   ]
  },
  {
   "cell_type": "code",
   "execution_count": 1,
   "metadata": {
    "collapsed": true
   },
   "outputs": [],
   "source": [
    "import random"
   ]
  },
  {
   "cell_type": "code",
   "execution_count": 13,
   "metadata": {
    "collapsed": true
   },
   "outputs": [],
   "source": [
    "def caminata_aleatoria(N):\n",
    "    s = 0\n",
    "    ss = [s]\n",
    "    for i in range(N):\n",
    "        z = random.choice([-1,1])\n",
    "        s += z\n",
    "        ss.append(s)\n",
    "    return ss, s"
   ]
  },
  {
   "cell_type": "markdown",
   "metadata": {},
   "source": [
    "**Actividad.** Graficar, en una misma ventana de gráficos, al menos ocho caminatas aleatorias de 100 pasos."
   ]
  },
  {
   "cell_type": "code",
   "execution_count": null,
   "metadata": {
    "collapsed": true
   },
   "outputs": [],
   "source": [
    "# Solucionar acá\n",
    "\n",
    "\n"
   ]
  },
  {
   "cell_type": "markdown",
   "metadata": {},
   "source": [
    "### Usamos montecarlo para evaluar el resultado de la caminata aleatoria\n",
    "\n",
    "- Describir, de nuevo, el proceso de la caminata aleatoria en el pizarrón y ver el valor esperado de la caminata después de N pasos.\n",
    "\n",
    "- Luego, evaluar el proceso utilizando montecarlo y comparar resultados."
   ]
  },
  {
   "cell_type": "code",
   "execution_count": null,
   "metadata": {},
   "outputs": [],
   "source": [
    "N = 100\n",
    "n = 10000\n",
    "ultimo = []\n",
    "for i in range(n):\n",
    "    ss, s = caminata_aleatoria(N)\n",
    "    ultimo.append(s)\n",
    "    #plt.plot(ss)\n",
    "\n",
    "#plt.show()\n",
    "print(\"La media muestral del ultimo valor de la caminata aleatoria es:\", np.mean(ultimo))"
   ]
  },
  {
   "cell_type": "markdown",
   "metadata": {},
   "source": [
    "## Ejemplo\n",
    "\n",
    "Ahora, para comprender el alcance de la simulación Montecarlo, tomaremos el ejemplo de un apostador básico.\n",
    "\n",
    "Referencia:\n",
    "- https://pythonprogramming.net/monte-carlo-simulator-python/\n",
    "\n",
    "Supongamos que estamos en un casino especial, donde el usuario puede tirar un *dado metafórico* que puede dar como resultado del número uno (1) al número cien (100).\n",
    "\n",
    "Si el usuario tira cualquier número entre 1 y 50, el casino gana. Si el usuario tira cualquier número entre 51 y 99, el usuario gana. Si el usuario tira 100, pierde.\n",
    "\n",
    "Con esto, el casino mantiene un margen del 1%, el cual es mucho más pequeño que el margen típico en casinos, al igual que el margen de mercado cuando se incorporan costos por transacción.\n",
    "\n",
    "Por ejemplo, [Scottrade](https://www.scottrade.com/) cobra \\$7 USD por transacción. Si se invierten \\$1000 USD por acción, esto significa que tienes que pagar \\$7 USD para entrar, y \\$7 USD para salir, para un total de \\$14 USD.\n",
    "\n",
    "Esto pone el margen en 1.4\\%. Esto significa, que a largo plazo, las ganancias tienen que ser mayores a 1.4\\% en promedio, de otra manera se estará perdiendo dinero. Aunque este porcentaje es pequeño, las probabilidades ya están en contra. La comercialización de acciones es un juego 50/50, especialmente en el corto plazo.\n",
    "\n",
    "De nuevo, con nuestro ejemplo en mente, 1-50, la casa gana. 51-99 el usuario gana. Un 100 significa que la casa gana.\n",
    "\n",
    "Ahora, comencemos. Primero tenemos que crear nuestro dado."
   ]
  },
  {
   "cell_type": "code",
   "execution_count": null,
   "metadata": {},
   "outputs": [],
   "source": [
    "# Explorar función randint de la librería random y crear una función que simule la tirada de un dado\n",
    "def tirar_dado():\n",
    "    return random.randint(1, 100)"
   ]
  },
  {
   "cell_type": "code",
   "execution_count": null,
   "metadata": {},
   "outputs": [],
   "source": [
    "# Tirar el dado 100 veces para comprobar que nuestra función si trabaja correctamente\n",
    "N = 100\n",
    "for i in range(N):\n",
    "    print(\"resultado:\", tirar_dado())"
   ]
  },
  {
   "cell_type": "markdown",
   "metadata": {},
   "source": [
    "Sin embargo, el dado por si solo no nos es útil. Necesitamos una función que nos devuelva sólamente si ganamos o perdemos."
   ]
  },
  {
   "cell_type": "code",
   "execution_count": null,
   "metadata": {},
   "outputs": [],
   "source": [
    "# Cambiar/usar la anterior función para obtener una que devuelva simplemente ganar(true) o perder(false)\n",
    "def tirar_dado():\n",
    "    x = random.randint(1, 100)\n",
    "    if x <= 50:\n",
    "        return False\n",
    "    elif 51<= x< 100:\n",
    "        return True\n",
    "    elif x == 100:\n",
    "        return False"
   ]
  },
  {
   "cell_type": "code",
   "execution_count": null,
   "metadata": {},
   "outputs": [],
   "source": [
    "# Probar la función creada para ver que funcione\n",
    "N = 100\n",
    "contador_ganar = 0\n",
    "contador_perder = 0\n",
    "for i in range(N):\n",
    "    if tirar_dado():\n",
    "        print(\"Felicidades!\")\n",
    "        contador_ganar += 1\n",
    "    else:\n",
    "        print(\"Sigue intentando\")\n",
    "        contador_perder += 1\n",
    "\n",
    "print(\"Ganamos\", contador_ganar, \" veces y perdimos\", contador_perder, \" veces.\")"
   ]
  },
  {
   "cell_type": "markdown",
   "metadata": {},
   "source": [
    "Ahora, necesitamos crear un apostador. Empezaremos con uno extremadamente básico por ahora. Veremos, que aún con un apostador muy básico, veremos cosas muy reveladoras usando un simulador montecarlo."
   ]
  },
  {
   "cell_type": "code",
   "execution_count": null,
   "metadata": {},
   "outputs": [],
   "source": [
    "# Crearemos un apostador simple. Las caracterísitcas son: se empieza con un capital inicial, siempre se apuesta lo mismo,\n",
    "# y se va a apostar un número determinado de veces.\n",
    "def apostador(cap_inicial, apuesta, n_apuestas):\n",
    "    capital = cap_inicial\n",
    "    ccapital = [cap_inicial]\n",
    "    \n",
    "    for i in range(n_apuestas):\n",
    "        if tirar_dado():\n",
    "            capital += apuesta\n",
    "            ccapital.append(capital)\n",
    "        else:\n",
    "            capital -= apuesta\n",
    "            ccapital.append(capital)\n",
    "    \n",
    "    return ccapital"
   ]
  },
  {
   "cell_type": "code",
   "execution_count": null,
   "metadata": {},
   "outputs": [],
   "source": [
    "# Ver como evolucionan los fondos de nuestro apostador al jugar 100 veces\n",
    "plt.plot(apostador(10000, 100, 100))\n",
    "plt.show()"
   ]
  },
  {
   "cell_type": "markdown",
   "metadata": {},
   "source": [
    "En realidad no nos importa tanto como evolucionan estos fondos. Nos importa más cuáles son los fondos al final (al largo plazo). Modificar la función anterior para ver esto."
   ]
  },
  {
   "cell_type": "code",
   "execution_count": 3,
   "metadata": {},
   "outputs": [],
   "source": [
    "# Función de apostador que devuelve los fondos al final de apostar una cantidad determinadad de veces\n",
    "def apostador(cap_inicial, apuesta, n_apuestas):\n",
    "    capital = cap_inicial\n",
    "    #ccapital = [cap_inicial]\n",
    "    \n",
    "    for i in range(n_apuestas):\n",
    "        if tirar_dado():\n",
    "            capital += apuesta\n",
    "            #ccapital.append(capital)\n",
    "        else:\n",
    "            capital -= apuesta\n",
    "            #ccapital.append(capital)\n",
    "        \n",
    "        if capital<=0:\n",
    "            capital = \"Banca rota\"\n",
    "            return capital\n",
    "    \n",
    "    return capital"
   ]
  },
  {
   "cell_type": "code",
   "execution_count": null,
   "metadata": {},
   "outputs": [],
   "source": [
    "# (Montecarlo) Simular varios (100) escenarios en que se apuestan 50, 100, 1000 y 10000 veces. ¿Qué pasa?\n",
    "N = 100\n",
    "n = 10000\n",
    "for i in range(N):\n",
    "    print(\"Capital al final:\", apostador(10000, 100, n))"
   ]
  },
  {
   "cell_type": "markdown",
   "metadata": {},
   "source": [
    "Vemos que al largo plazo la mayoría de los apostadores quebraron. Sin embargo, esta forma de visualizar los resultados no es adecuada. Utilicemos matplotlib."
   ]
  },
  {
   "cell_type": "code",
   "execution_count": null,
   "metadata": {},
   "outputs": [],
   "source": [
    "# Modificar la función para que no devuelva los fondos al final, sino que grafique los fondos a través del tiempo\n",
    "def apostador(cap_inicial, apuesta, n_apuestas):\n",
    "    capital = cap_inicial\n",
    "    ccapital = [cap_inicial]\n",
    "    \n",
    "    for i in range(n_apuestas):\n",
    "        if tirar_dado():\n",
    "            capital += apuesta\n",
    "            ccapital.append(capital)\n",
    "        else:\n",
    "            capital -= apuesta\n",
    "            ccapital.append(capital)\n",
    "    \n",
    "    return ccapital"
   ]
  },
  {
   "cell_type": "code",
   "execution_count": null,
   "metadata": {},
   "outputs": [],
   "source": [
    "# (Montecarlo) Simular varios (100) escenarios en que se apuestan 50, 100, 1000 y 10000 veces. ¿Qué pasa?\n",
    "N = 100\n",
    "n = 10000\n",
    "for i in range(N):\n",
    "    plt.plot(apostador(10000, 100, n))\n",
    "    \n",
    "plt.show()"
   ]
  },
  {
   "cell_type": "markdown",
   "metadata": {},
   "source": [
    "Por esto los apostadores pierden. Normalmente las probabilidades no están evidentemente muy en contra de ellos, solo un poco. Los casinos únicamente entienden psicología básica: ganar es extremadamente adictivo. Por ello, los casino se construyen para mantenerte jugando.\n",
    "\n",
    "En el corto plazo, la mayoría de los jugadores no se dan cuenta que son más propensos a perder. Las veces que ganan y pierden son muy parejas. Estadísticamente, casi la mitad de las personas terminarán con ganancias después de jugar unas pocas veces. El problema es la adicción, y que ellos continuarán apostando, y por ende perdiendo sus ganancias. Es matemática extremadamente básica, pero la psicología humana es débil."
   ]
  },
  {
   "cell_type": "markdown",
   "metadata": {},
   "source": [
    "<script>\n",
    "  $(document).ready(function(){\n",
    "    $('div.prompt').hide();\n",
    "    $('div.back-to-top').hide();\n",
    "    $('nav#menubar').hide();\n",
    "    $('.breadcrumb').hide();\n",
    "    $('.hidden-print').hide();\n",
    "  });\n",
    "</script>\n",
    "\n",
    "<footer id=\"attribution\" style=\"float:right; color:#808080; background:#fff;\">\n",
    "Created with Jupyter by Esteban Jiménez Rodríguez.\n",
    "</footer>"
   ]
  }
 ],
 "metadata": {
  "kernelspec": {
   "display_name": "Python 3",
   "language": "python",
   "name": "python3"
  },
  "language_info": {
   "codemirror_mode": {
    "name": "ipython",
    "version": 3
   },
   "file_extension": ".py",
   "mimetype": "text/x-python",
   "name": "python",
   "nbconvert_exporter": "python",
   "pygments_lexer": "ipython3",
   "version": "3.6.4"
  }
 },
 "nbformat": 4,
 "nbformat_minor": 2
}
